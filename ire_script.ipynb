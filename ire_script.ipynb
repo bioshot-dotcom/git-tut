{
 "cells": [
  {
   "cell_type": "code",
   "execution_count": null,
   "metadata": {},
   "outputs": [],
   "source": [
    "print(\"Hello beautiful guys!\")\n",
    "print(\"hello again\")\n",
    "print(\"hello bernhard!\")\n",
    "print(\"hello bernhard!\")\n",
    "print(\"maria trying test 2\")\n",
    "print(\"hello irene :)\")\n"
   ]
  }
 ],
 "metadata": {
  "kernelspec": {
   "display_name": "Python 3",
   "language": "python",
   "name": "python3"
  },
  "language_info": {
   "name": "python",
   "version": "3.11.7"
  }
 },
 "nbformat": 4,
 "nbformat_minor": 2
}
